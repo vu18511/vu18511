{
 "cells": [
  {
   "cell_type": "code",
   "execution_count": 31,
   "id": "2fe06cdc-8a42-4063-9369-6f0ee42436d9",
   "metadata": {},
   "outputs": [],
   "source": [
    "from tkinter import *\n",
    "from tkinter import messagebox\n",
    "import random\n",
    "\n",
    "# Initialising width of the screen\n",
    "WIDTH = 500\n",
    "# Initialising height of the screen\n",
    "HEIGHT = 500\n",
    "# Initialising speed of the snake\n",
    "SPEED = 100\n",
    "SPACE_SIZE = 20\n",
    "BODY_SIZE = 2\n",
    "FOOD = \"#FFFFFF\"\n",
    "SNAKE = \"#00FF00\"\n",
    "score=0\n",
    "\n",
    "#giao diện game cơ bản\n",
    "window = Tk()\n",
    "window.title('Game: Snake')\n",
    "canvas = Canvas(window, bg='#000000', height = HEIGHT,width = WIDTH)\n",
    "\n",
    "\n",
    "class Snake:\n",
    "\n",
    "\tdef __init__(self):\n",
    "\t\tself.body_size = BODY_SIZE\n",
    "\t\tself.coordinates = []\n",
    "\t\tself.squares = []\n",
    "\n",
    "\t\tfor i in range(0, 3):\n",
    "\t\t\tself.coordinates.append([0, 0])\n",
    "\n",
    "\t\tfor x, y in self.coordinates:\n",
    "\t\t\tsquare = canvas.create_rectangle(x, y, x + SPACE_SIZE, y + SPACE_SIZE, fill=SNAKE, tag=\"snake\")\n",
    "\t\t\tself.squares.append(square)\n",
    "\n",
    "class Food:\n",
    "    def __init__(self):\n",
    "        x = random.randint(0, (WIDTH/SPACE_SIZE)-1)*SPACE_SIZE\n",
    "        y = random.randint(0, (WIDTH/SPACE_SIZE)-1)*SPACE_SIZE\n",
    "\n",
    "        self.coordinates = [x,y]\n",
    "        canvas.create_oval(x,y,x +SPACE_SIZE,y+SPACE_SIZE, fill=FOOD, tag=\"food\")\n",
    "\n",
    "def next_turn(snake, food):\n",
    "\n",
    "    x, y = snake.coordinates[0]\n",
    "\n",
    "    if direction == \"up\":\n",
    "        y -= SPACE_SIZE\n",
    "    elif direction == \"down\":\n",
    "        y += SPACE_SIZE\n",
    "    elif direction == \"left\":\n",
    "        x -= SPACE_SIZE\n",
    "    elif direction == \"right\":\n",
    "        x += SPACE_SIZE\n",
    "\n",
    "    snake.coordinates.insert(0, (x, y))\n",
    "\n",
    "    square = canvas.create_rectangle(x, y, x + SPACE_SIZE, y + SPACE_SIZE, fill=SNAKE)\n",
    "\n",
    "    snake.squares.insert(0, square)\n",
    "\n",
    "    if x == food.coordinates[0] and y == food.coordinates[1]:\n",
    "\n",
    "        global score\n",
    "        \n",
    "        score += 1\n",
    "\n",
    "        canvas.delete(\"food\")\n",
    "\n",
    "        food = Food()\n",
    "\n",
    "    else:\n",
    "\n",
    "        del snake.coordinates[-1]\n",
    "\n",
    "        canvas.delete(snake.squares[-1])\n",
    "\n",
    "        del snake.squares[-1]\n",
    "\n",
    "    if check_collisions(snake):\n",
    "        game_over()\n",
    "\n",
    "    else:\n",
    "        window.after(SPEED, next_turn, snake, food)\n",
    "\n",
    "\n",
    "def change_direction(new_direction):\n",
    "\n",
    "    global direction\n",
    "\n",
    "    if new_direction == 'left':\n",
    "        if direction != 'right':\n",
    "            direction = new_direction\n",
    "    elif new_direction == 'right':\n",
    "        if direction != 'left':\n",
    "            direction = new_direction\n",
    "    elif new_direction == 'up':\n",
    "        if direction != 'down':\n",
    "            direction = new_direction\n",
    "    elif new_direction == 'down':\n",
    "        if direction != 'up':\n",
    "            direction = new_direction\n",
    "\n",
    "\n",
    "def check_collisions(snake):\n",
    "\n",
    "    x, y = snake.coordinates[0]\n",
    "\n",
    "    if x < 0 or x >= WIDTH:\n",
    "        return True\n",
    "    elif y < 0 or y >= HEIGHT:\n",
    "        return True\n",
    "\n",
    "    for body_part in snake.coordinates[1:]:\n",
    "        if x == body_part[0] and y == body_part[1]:\n",
    "            return True\n",
    "\n",
    "    return False\n",
    "\n",
    "\n",
    "def game_over():\n",
    "\n",
    "    canvas.delete(ALL)\n",
    "    canvas.create_text(canvas.winfo_width()/2, canvas.winfo_height()/2,\n",
    "                       font=('consolas',70), text=\"GAME OVER\", fill=\"red\", tag=\"gameover\")\n",
    "\n",
    "        \n",
    "def easybt():\n",
    "    SPEED = 100\n",
    "    messagebox.showinfo(\"Mode\", f\"Mode: Easy\")\n",
    "\n",
    "def mediumbt():\n",
    "    SPEED = 80\n",
    "    messagebox.showinfo(\"Mode\", f\"Mode: Medium\")\n",
    "\n",
    "def hardbt():\n",
    "    SPEED = 50\n",
    "    messagebox.showinfo(\"Mode\", f\"Mode: Hard\")\n",
    "\n",
    "#Các nút trong game\n",
    "name_lbl = Label(window,text = 'Game: Snake', font = ('time',20))\n",
    "mode_lbl = Label(window,text = 'Mode')\n",
    "easy_bt = Button(window,text = 'Easy', command = easybt)\n",
    "medium_bt = Button(window,text = 'Medium', command =mediumbt)\n",
    "hard_bt = Button(window,text = 'Hard', command =hardbt)\n",
    "play_bt = Button(window, text = 'Play')\n",
    "score_lbl = Label(window, text = 'Score: {}'.format(score))\n",
    "\n",
    "#vị trí\n",
    "window.geometry(f\"505x625\")\n",
    "name_lbl.place(x = 0,y=0)\n",
    "mode_lbl.place(x=0,y=40)\n",
    "easy_bt.place(x=40, y=40)\n",
    "medium_bt.place(x=100,y=40)\n",
    "hard_bt.place(x=170,y=40)\n",
    "play_bt.place(x=0,y=80)\n",
    "canvas.place(x=0,y=120)\n",
    "score_lbl.place (x=100,y=80)\n",
    "\n",
    "direction = 'down'\n",
    "\n",
    "window.update()\n",
    "\n",
    "window.bind('<Left>', lambda event: change_direction('left'))\n",
    "window.bind('<Right>', lambda event: change_direction('right'))\n",
    "window.bind('<Up>', lambda event: change_direction('up'))\n",
    "window.bind('<Down>', lambda event: change_direction('down'))\n",
    "\n",
    "snake = Snake()\n",
    "food = Food()\n",
    "\n",
    "next_turn(snake, food)\n",
    "\n",
    "window.mainloop()"
   ]
  },
  {
   "cell_type": "markdown",
   "id": "dc718fde",
   "metadata": {},
   "source": [
    "# TÌM HIỂU THƯ VIỆN TURTLE\n",
    "1. Sử dụng lệnh PIP\n",
    "2. Thư viện Turtle\n",
    "3. Điều khiển chuyển động trong turle\n",
    "4. Điều khiển nét bút trong turtle"
   ]
  },
  {
   "cell_type": "markdown",
   "id": "df7065ed",
   "metadata": {},
   "source": [
    "## LỆNH PIP\n",
    "PIP là một trình quản lý gói cho Python, cho phép cài đặt và\n",
    "quản lý các thư viện và dependency mà không được phân\n",
    "phối như một phần của thư viện chuẩn của Python.\n",
    "> pip command"
   ]
  },
  {
   "cell_type": "markdown",
   "id": "f33877e9",
   "metadata": {},
   "source": [
    "Để kiểm tra pip đang chạy trên máy tính, chúng ta có thể sử dụng command:"
   ]
  },
  {
   "cell_type": "code",
   "execution_count": 1,
   "id": "176a259c",
   "metadata": {},
   "outputs": [
    {
     "name": "stdout",
     "output_type": "stream",
     "text": [
      "Python 3.11.1\n"
     ]
    }
   ],
   "source": [
    "! python --version"
   ]
  },
  {
   "cell_type": "code",
   "execution_count": 2,
   "id": "83fc6602",
   "metadata": {},
   "outputs": [
    {
     "name": "stderr",
     "output_type": "stream",
     "text": [
      "'install' is not recognized as an internal or external command,\n",
      "operable program or batch file.\n"
     ]
    }
   ],
   "source": [
    "! install turtle"
   ]
  },
  {
   "cell_type": "markdown",
   "id": "5de29f0c",
   "metadata": {},
   "source": [
    "# THƯ VIỆN TURLTE\n",
    "- Turtle graphic là một chương trình con có sẵn trong python khi bạn đã cài Python lên máy\n",
    "- Turtle được xem như một cây bút vẽ, di chuyển đến đâu là vẽ hình đến đó"
   ]
  },
  {
   "cell_type": "markdown",
   "id": "41610170",
   "metadata": {},
   "source": [
    "### Cài đặt thư viện turtle với pip"
   ]
  },
  {
   "cell_type": "code",
   "execution_count": null,
   "id": "269755c7",
   "metadata": {},
   "outputs": [],
   "source": []
  },
  {
   "cell_type": "code",
   "execution_count": null,
   "id": "28256d23",
   "metadata": {},
   "outputs": [],
   "source": []
  },
  {
   "cell_type": "markdown",
   "id": "327a8a11",
   "metadata": {},
   "source": [
    "### Sử dụng turtle"
   ]
  },
  {
   "cell_type": "markdown",
   "id": "10e0be43",
   "metadata": {},
   "source": [
    "Bước 1: Import module turle\n"
   ]
  },
  {
   "cell_type": "code",
   "execution_count": 19,
   "id": "781d6b32",
   "metadata": {},
   "outputs": [],
   "source": [
    "import turtle"
   ]
  },
  {
   "cell_type": "markdown",
   "id": "d20f3f3f",
   "metadata": {},
   "source": [
    "Bước 2: Tạo đối tượng turle"
   ]
  },
  {
   "cell_type": "code",
   "execution_count": 21,
   "id": "9d62ff7d",
   "metadata": {},
   "outputs": [],
   "source": [
    "pen = turtle.Turtle()"
   ]
  },
  {
   "cell_type": "markdown",
   "id": "62a000c8",
   "metadata": {},
   "source": [
    "Bước 3: Vẽ bằng các phương thức của turtle"
   ]
  },
  {
   "cell_type": "code",
   "execution_count": 88,
   "id": "b772347e",
   "metadata": {},
   "outputs": [],
   "source": [
    "# forward, backward, Left, right\n",
    "pen.forward(100);"
   ]
  },
  {
   "cell_type": "markdown",
   "id": "8e0f4830",
   "metadata": {},
   "source": [
    "Bước 4: Hoàn thành vẽ"
   ]
  },
  {
   "cell_type": "code",
   "execution_count": 89,
   "id": "8e4a076e",
   "metadata": {},
   "outputs": [],
   "source": [
    "turtle.done()"
   ]
  },
  {
   "cell_type": "markdown",
   "id": "850cff26",
   "metadata": {},
   "source": [
    "### Thực hành: Vẽ hình vuông"
   ]
  },
  {
   "cell_type": "code",
   "execution_count": 140,
   "id": "7e69bd76",
   "metadata": {},
   "outputs": [],
   "source": [
    "import turtle\n",
    "pen = turtle.Turtle()\n",
    "#độ dày nét vẽ\n",
    "pen.pensize(10)\n",
    "#nhấc bút lên\n",
    "pen.penup()\n",
    "#hạ bút xuống\n",
    "pen.pendown()\n",
    "pen.pencolor('red')\n",
    "pen.fillcolor('blue')\n",
    "pen.speed(1)\n",
    "pen.forward(200)\n",
    "pen.left(120)\n",
    "pen.forward(200)\n",
    "pen.left(120)\n",
    "pen.forward(200)\n",
    "turtle.done()"
   ]
  },
  {
   "cell_type": "markdown",
   "id": "5887d86b",
   "metadata": {},
   "source": [
    "### Thực hành: Vẽ hình tam giác đều"
   ]
  },
  {
   "cell_type": "code",
   "execution_count": 111,
   "id": "4bbbad3a",
   "metadata": {},
   "outputs": [],
   "source": [
    "import turtle"
   ]
  },
  {
   "cell_type": "code",
   "execution_count": 113,
   "id": "cf22082d-6495-4e30-ad10-82e2dad0ef98",
   "metadata": {},
   "outputs": [],
   "source": [
    "pen = turtle.Turtle()"
   ]
  },
  {
   "cell_type": "code",
   "execution_count": 115,
   "id": "4c042966-912e-4ddc-a88e-b2692580d821",
   "metadata": {},
   "outputs": [],
   "source": [
    "pen.left(60)"
   ]
  },
  {
   "cell_type": "code",
   "execution_count": 117,
   "id": "36258b2c-297e-4087-8ff4-3c1445df2c0f",
   "metadata": {},
   "outputs": [
    {
     "ename": "Terminator",
     "evalue": "",
     "output_type": "error",
     "traceback": [
      "\u001b[1;31m---------------------------------------------------------------------------\u001b[0m",
      "\u001b[1;31mTerminator\u001b[0m                                Traceback (most recent call last)",
      "Cell \u001b[1;32mIn[117], line 1\u001b[0m\n\u001b[1;32m----> 1\u001b[0m \u001b[43mturtle\u001b[49m\u001b[38;5;241;43m.\u001b[39;49m\u001b[43mdone\u001b[49m\u001b[43m(\u001b[49m\u001b[43m)\u001b[49m\n",
      "File \u001b[1;32m<string>:5\u001b[0m, in \u001b[0;36mmainloop\u001b[1;34m()\u001b[0m\n",
      "\u001b[1;31mTerminator\u001b[0m: "
     ]
    }
   ],
   "source": [
    "turtle.done()"
   ]
  },
  {
   "cell_type": "markdown",
   "id": "286e4627",
   "metadata": {},
   "source": [
    "### Các lệnh điều khiển nét bút"
   ]
  },
  {
   "cell_type": "markdown",
   "id": "172501b8",
   "metadata": {},
   "source": [
    "Thay đổi kích thước của bút"
   ]
  },
  {
   "cell_type": "code",
   "execution_count": null,
   "id": "7fb9025f",
   "metadata": {},
   "outputs": [],
   "source": [
    "pen.pensize(10)"
   ]
  },
  {
   "cell_type": "markdown",
   "id": "a2f89a48",
   "metadata": {},
   "source": [
    "Nhấc bút lên"
   ]
  },
  {
   "cell_type": "code",
   "execution_count": null,
   "id": "e5ea9ef7",
   "metadata": {},
   "outputs": [],
   "source": [
    "pen.penup()"
   ]
  },
  {
   "cell_type": "markdown",
   "id": "249ee9cd",
   "metadata": {},
   "source": [
    "Đặt bút xuống"
   ]
  },
  {
   "cell_type": "code",
   "execution_count": null,
   "id": "cbb2b715",
   "metadata": {},
   "outputs": [],
   "source": [
    "pen.pendown()"
   ]
  },
  {
   "cell_type": "markdown",
   "id": "9a4a4e08",
   "metadata": {},
   "source": [
    "### Điều chỉnh màu sắc trong turtle"
   ]
  },
  {
   "cell_type": "markdown",
   "id": "b256f49c-6b3d-4dcb-b824-e00abe2ee421",
   "metadata": {},
   "source": [
    "Thay đổi màu nét vẽ"
   ]
  },
  {
   "cell_type": "code",
   "execution_count": null,
   "id": "e8e0a962",
   "metadata": {},
   "outputs": [],
   "source": [
    "pen.pencolor('red')"
   ]
  },
  {
   "cell_type": "markdown",
   "id": "e587faf1",
   "metadata": {},
   "source": [
    "Thay đổi màu bút"
   ]
  },
  {
   "cell_type": "code",
   "execution_count": null,
   "id": "4227ed0a",
   "metadata": {},
   "outputs": [],
   "source": [
    "pen.fillcolor('blue')"
   ]
  },
  {
   "cell_type": "markdown",
   "id": "9f9b669a",
   "metadata": {},
   "source": [
    "Thay đổi tốc độ"
   ]
  },
  {
   "cell_type": "code",
   "execution_count": null,
   "id": "4f7bcc7b",
   "metadata": {},
   "outputs": [],
   "source": [
    "pen.speed(1)"
   ]
  }
 ],
 "metadata": {
  "kernelspec": {
   "display_name": "Python 3 (ipykernel)",
   "language": "python",
   "name": "python3"
  },
  "language_info": {
   "codemirror_mode": {
    "name": "ipython",
    "version": 3
   },
   "file_extension": ".py",
   "mimetype": "text/x-python",
   "name": "python",
   "nbconvert_exporter": "python",
   "pygments_lexer": "ipython3",
   "version": "3.11.1"
  }
 },
 "nbformat": 4,
 "nbformat_minor": 5
}
