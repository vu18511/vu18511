{
 "cells": [
  {
   "cell_type": "code",
   "execution_count": 6,
   "id": "787eca66-cec2-4f9a-878c-57083f98f316",
   "metadata": {},
   "outputs": [
    {
     "name": "stdin",
     "output_type": "stream",
     "text": [
      "Nhập số từ 1-7 6\n"
     ]
    },
    {
     "name": "stdout",
     "output_type": "stream",
     "text": [
      "Friday\n"
     ]
    }
   ],
   "source": [
    "day = int(input(\"Nhập số từ 1-7\"))\n",
    "print(\"Monday\") if day == 2 else print(\"Tuesday\") if day == 3 else print(\"Wednesday\") if day == 4 else print(\"Thusday\") if day == 5 else print(\"Friday\") if day == 6 else print(\"saturday\") if day == 7 else print(\"Sunday\") if day == 1 else print(\"out of range\")"
   ]
  }
 ],
 "metadata": {
  "kernelspec": {
   "display_name": "Python 3 (ipykernel)",
   "language": "python",
   "name": "python3"
  },
  "language_info": {
   "codemirror_mode": {
    "name": "ipython",
    "version": 3
   },
   "file_extension": ".py",
   "mimetype": "text/x-python",
   "name": "python",
   "nbconvert_exporter": "python",
   "pygments_lexer": "ipython3",
   "version": "3.11.2"
  }
 },
 "nbformat": 4,
 "nbformat_minor": 5
}
