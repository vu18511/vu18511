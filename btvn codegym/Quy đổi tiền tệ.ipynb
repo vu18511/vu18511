{
 "cells": [
  {
   "cell_type": "code",
   "execution_count": 2,
   "id": "2dc20f60-b2dc-433e-bd74-b70f8ec4c60a",
   "metadata": {},
   "outputs": [
    {
     "name": "stdin",
     "output_type": "stream",
     "text": [
      "Nhập số USD cần đổi:  3\n",
      "Nhập tỉ giá USD/VND - 1USD =  23000\n"
     ]
    },
    {
     "name": "stdout",
     "output_type": "stream",
     "text": [
      "69000.0VND\n"
     ]
    }
   ],
   "source": [
    "usd = float(input(\"Nhập số USD cần đổi: \"))\n",
    "rate = float(input(\"Nhập tỉ giá USD/VND - 1USD = \"))\n",
    "print(f\"{usd*rate}VND\")"
   ]
  }
 ],
 "metadata": {
  "kernelspec": {
   "display_name": "Python 3 (ipykernel)",
   "language": "python",
   "name": "python3"
  },
  "language_info": {
   "codemirror_mode": {
    "name": "ipython",
    "version": 3
   },
   "file_extension": ".py",
   "mimetype": "text/x-python",
   "name": "python",
   "nbconvert_exporter": "python",
   "pygments_lexer": "ipython3",
   "version": "3.11.2"
  }
 },
 "nbformat": 4,
 "nbformat_minor": 5
}
