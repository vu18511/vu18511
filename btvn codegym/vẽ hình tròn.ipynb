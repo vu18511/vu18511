{
 "cells": [
  {
   "cell_type": "code",
   "execution_count": 2,
   "id": "6e3de494-215e-4eab-84d1-857799f44c08",
   "metadata": {},
   "outputs": [],
   "source": [
    "import turtle\n",
    "pen = turtle.Turtle()\n",
    "pen.pensize(15)\n",
    "pen.pencolor('red')\n",
    "pen.fillcolor('green')\n",
    "pen.begin_fill()\n",
    "pen.circle(100)\n",
    "pen.end_fill()\n",
    "turtle.done()"
   ]
  }
 ],
 "metadata": {
  "kernelspec": {
   "display_name": "Python 3 (ipykernel)",
   "language": "python",
   "name": "python3"
  },
  "language_info": {
   "codemirror_mode": {
    "name": "ipython",
    "version": 3
   },
   "file_extension": ".py",
   "mimetype": "text/x-python",
   "name": "python",
   "nbconvert_exporter": "python",
   "pygments_lexer": "ipython3",
   "version": "3.11.1"
  }
 },
 "nbformat": 4,
 "nbformat_minor": 5
}
