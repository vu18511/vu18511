{
 "cells": [
  {
   "cell_type": "code",
   "execution_count": 11,
   "id": "6a23bdf7-797c-4ef1-ba0f-236af5242dd2",
   "metadata": {},
   "outputs": [
    {
     "name": "stdin",
     "output_type": "stream",
     "text": [
      "Nhập chiều cao 182\n",
      "Nhập cân nặng 65\n"
     ]
    },
    {
     "name": "stdout",
     "output_type": "stream",
     "text": [
      "Gầy cấp độ 3\n"
     ]
    }
   ],
   "source": [
    "height = float(input(\"Nhập chiều cao\"))\n",
    "weight = float(input(\"Nhập cân nặng\"))\n",
    "BMI = weight / (height **2)\n",
    "print(\"Gầy cấp độ 3\") if BMI < 16 else print(\"Gầy cấp độ 2\") if BMI <17 else print(\"Gầy cấp độ 1\") if BMI < 18.5 else print(\"Bình thường\") if BMI < 25 else print(\"Thừa cân\") if BMI < 30 else print(\"Béo phì cấp độ 1\") if BMI <35 else print(\"Béo phì cấp độ 2\") if BMI < 40 else print(\"Béo phì cấp độ 3\")"
   ]
  }
 ],
 "metadata": {
  "kernelspec": {
   "display_name": "Python 3 (ipykernel)",
   "language": "python",
   "name": "python3"
  },
  "language_info": {
   "codemirror_mode": {
    "name": "ipython",
    "version": 3
   },
   "file_extension": ".py",
   "mimetype": "text/x-python",
   "name": "python",
   "nbconvert_exporter": "python",
   "pygments_lexer": "ipython3",
   "version": "3.11.2"
  }
 },
 "nbformat": 4,
 "nbformat_minor": 5
}
