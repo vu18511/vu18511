{
 "cells": [
  {
   "cell_type": "code",
   "execution_count": 23,
   "id": "02a2480e-e9f3-458d-a35a-f3f9aea98588",
   "metadata": {},
   "outputs": [
    {
     "name": "stdin",
     "output_type": "stream",
     "text": [
      "Nhập số:  3.2\n"
     ]
    },
    {
     "name": "stdout",
     "output_type": "stream",
     "text": [
      "Không phải số tự nhiên\n"
     ]
    }
   ],
   "source": [
    "num = float(input(\"Nhập số: \"))\n",
    "print(\"chẵn\") if not num % 2 else print(\"lẻ\") if num % 2 ==1 else print(\"Không phải số tự nhiên\")"
   ]
  }
 ],
 "metadata": {
  "kernelspec": {
   "display_name": "Python 3 (ipykernel)",
   "language": "python",
   "name": "python3"
  },
  "language_info": {
   "codemirror_mode": {
    "name": "ipython",
    "version": 3
   },
   "file_extension": ".py",
   "mimetype": "text/x-python",
   "name": "python",
   "nbconvert_exporter": "python",
   "pygments_lexer": "ipython3",
   "version": "3.11.2"
  }
 },
 "nbformat": 4,
 "nbformat_minor": 5
}
