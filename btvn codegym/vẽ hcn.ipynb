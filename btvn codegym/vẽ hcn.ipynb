{
 "cells": [
  {
   "cell_type": "code",
   "execution_count": 1,
   "id": "31cd029b-58ad-41e2-8626-7f5bf6d5e8ad",
   "metadata": {},
   "outputs": [],
   "source": [
    "#vẽ hcn\n",
    "import turtle\n",
    "pen = turtle.Turtle()\n",
    "a = 100\n",
    "b = 150\n",
    "\n",
    "pen.fd(a)\n",
    "pen.lt(90)\n",
    "pen.fd(b)\n",
    "pen.lt(90)\n",
    "pen.fd(a)\n",
    "pen.lt(90)\n",
    "pen.fd(b)\n",
    "turtle.done()"
   ]
  }
 ],
 "metadata": {
  "kernelspec": {
   "display_name": "Python 3 (ipykernel)",
   "language": "python",
   "name": "python3"
  },
  "language_info": {
   "codemirror_mode": {
    "name": "ipython",
    "version": 3
   },
   "file_extension": ".py",
   "mimetype": "text/x-python",
   "name": "python",
   "nbconvert_exporter": "python",
   "pygments_lexer": "ipython3",
   "version": "3.11.1"
  }
 },
 "nbformat": 4,
 "nbformat_minor": 5
}
