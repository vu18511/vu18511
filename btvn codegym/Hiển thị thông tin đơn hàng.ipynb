{
 "cells": [
  {
   "cell_type": "code",
   "execution_count": 7,
   "id": "6857546b-a5d1-4f88-a17b-e04d73b6d26b",
   "metadata": {},
   "outputs": [
    {
     "name": "stdin",
     "output_type": "stream",
     "text": [
      "Nhập tổng giá trị đơn hàng 151\n"
     ]
    },
    {
     "name": "stdout",
     "output_type": "stream",
     "text": [
      "101.0\n"
     ]
    }
   ],
   "source": [
    "value = float(input(\"Nhập tổng giá trị đơn hàng\"))\n",
    "print(value) if value < 75 else print(value - 15) if value < 100 else print(value - 25) if value < 150 else print(value-50)"
   ]
  }
 ],
 "metadata": {
  "kernelspec": {
   "display_name": "Python 3 (ipykernel)",
   "language": "python",
   "name": "python3"
  },
  "language_info": {
   "codemirror_mode": {
    "name": "ipython",
    "version": 3
   },
   "file_extension": ".py",
   "mimetype": "text/x-python",
   "name": "python",
   "nbconvert_exporter": "python",
   "pygments_lexer": "ipython3",
   "version": "3.11.2"
  }
 },
 "nbformat": 4,
 "nbformat_minor": 5
}
