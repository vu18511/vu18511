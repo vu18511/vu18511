{
 "cells": [
  {
   "cell_type": "code",
   "execution_count": 6,
   "id": "272a3a95",
   "metadata": {},
   "outputs": [
    {
     "name": "stdout",
     "output_type": "stream",
     "text": [
      "1505\n",
      "1540\n",
      "1575\n",
      "1610\n",
      "1645\n",
      "1680\n",
      "1715\n",
      "1750\n",
      "1785\n",
      "1820\n",
      "1855\n",
      "1890\n",
      "1925\n",
      "1960\n",
      "1995\n",
      "2030\n",
      "2065\n",
      "2100\n",
      "2135\n",
      "2170\n",
      "2205\n",
      "2240\n",
      "2275\n",
      "2310\n",
      "2345\n",
      "2380\n",
      "2415\n",
      "2450\n",
      "2485\n",
      "2520\n",
      "2555\n",
      "2590\n",
      "2625\n",
      "2660\n",
      "2695\n"
     ]
    }
   ],
   "source": [
    "'''\n",
    "Khởi động 1: Viết chương trình in ra tất cả các số chia hết cho cả 5 và 7 trong khoảng từ 1500 đến 2700\n",
    "'''\n",
    "\n",
    "n = 2700\n",
    "\n",
    "i=1500\n",
    "\n",
    "while i <= n:\n",
    "    if not i % 5 and not i % 7:\n",
    "        print(i)\n",
    "    i +=1\n",
    "    "
   ]
  },
  {
   "cell_type": "code",
   "execution_count": null,
   "id": "18dbe371",
   "metadata": {},
   "outputs": [],
   "source": []
  },
  {
   "cell_type": "code",
   "execution_count": 10,
   "id": "87f74c6c",
   "metadata": {},
   "outputs": [
    {
     "name": "stdin",
     "output_type": "stream",
     "text": [
      "Nhập chiều cao tam giác vuông 5\n"
     ]
    },
    {
     "name": "stdout",
     "output_type": "stream",
     "text": [
      "* * * * * \n",
      "* * * * \n",
      "* * * \n",
      "* * \n",
      "* \n"
     ]
    }
   ],
   "source": [
    "'''\n",
    "Bài 1: Viết chương trình nhập vào chiều cao tam giác vuông và in ra tam giác có hình dạng như sau:\n",
    "*****\n",
    "****\n",
    "***\n",
    "** \n",
    "*\n",
    "'''\n",
    "\n",
    "height = int(input(\"Nhập chiều cao tam giác vuông\"))\n",
    "i = 1\n",
    "\n",
    "while i <= height:\n",
    "    print(height * \"*\")\n",
    "    height -=1"
   ]
  },
  {
   "cell_type": "code",
   "execution_count": 18,
   "id": "ea4c14a8",
   "metadata": {},
   "outputs": [
    {
     "name": "stdin",
     "output_type": "stream",
     "text": [
      "Nhập chiều cao tam giác vuông 5\n"
     ]
    },
    {
     "name": "stdout",
     "output_type": "stream",
     "text": [
      "* * * * *\n",
      "* * * *\n",
      "* * *\n",
      "* *\n",
      "*\n"
     ]
    }
   ],
   "source": [
    "'''\n",
    "Bài 2: Viết chương trình nhập vào chiều cao tam giác vuông và in ra tam giác có hình dạng như sau:\n",
    "* * * * * *\n",
    "* * * * *\n",
    "* * * *\n",
    "* * *\n",
    "* *\n",
    "*\n",
    "'''\n",
    "height = int(input(\"Nhập chiều cao tam giác vuông\"))\n",
    "i = 1\n",
    "\n",
    "while i <= height:\n",
    "    print('* ' * (height-1) +'*')\n",
    "    height -=1"
   ]
  },
  {
   "cell_type": "code",
   "execution_count": 22,
   "id": "35e8c920-c8f9-44a2-b838-eab7f780f42b",
   "metadata": {},
   "outputs": [
    {
     "ename": "SyntaxError",
     "evalue": "unterminated triple-quoted string literal (detected at line 15) (3051507967.py, line 8)",
     "output_type": "error",
     "traceback": [
      "\u001b[1;36m  Cell \u001b[1;32mIn[22], line 8\u001b[1;36m\u001b[0m\n\u001b[1;33m    '''\u001b[0m\n\u001b[1;37m    ^\u001b[0m\n\u001b[1;31mSyntaxError\u001b[0m\u001b[1;31m:\u001b[0m unterminated triple-quoted string literal (detected at line 15)\n"
     ]
    }
   ],
   "source": [
    "'''\n",
    "Bài 3: Viết chương trình nhập vào chiều cao tam giác vuông và in ra tam giác có hình dạng như sau:\n",
    "* - * - *\n",
    "* - * -\n",
    "* - *\n",
    "* -\n",
    "*\n",
    "'''"
   ]
  },
  {
   "cell_type": "code",
   "execution_count": 35,
   "id": "611178b2-fac0-4927-89c3-d97b092d190a",
   "metadata": {},
   "outputs": [
    {
     "name": "stdin",
     "output_type": "stream",
     "text": [
      "Nhập chiều cao tam giác vuông 5\n"
     ]
    },
    {
     "name": "stdout",
     "output_type": "stream",
     "text": [
      "* - * - * \n",
      "* - * -\n",
      "* - * \n",
      "* -\n",
      "* \n"
     ]
    }
   ],
   "source": [
    "height = int(input(\"Nhập chiều cao tam giác vuông\"))\n",
    "i = 1\n",
    "\n",
    "while i <= height:\n",
    "    if height % 2:\n",
    "        print(\"*\",\"- * \"*(height//2))\n",
    "    else:\n",
    "        print((\"* - \"*(height//2)).strip())\n",
    "    height -= 1"
   ]
  },
  {
   "cell_type": "code",
   "execution_count": 31,
   "id": "e7ace8bc-a7ed-4ab2-aa48-0eac0f5f1971",
   "metadata": {},
   "outputs": [
    {
     "name": "stdin",
     "output_type": "stream",
     "text": [
      "Nhập chiều cao tam giác vuông 5\n"
     ]
    },
    {
     "name": "stdout",
     "output_type": "stream",
     "text": [
      "* - * - *\n",
      "* - * -\n",
      "* - *\n",
      "* -\n",
      "*\n"
     ]
    }
   ],
   "source": [
    "height = int(input(\"Nhập chiều cao tam giác vuông\"))\n",
    "i = height\n",
    "\n",
    "while i >= 1:\n",
    "    print(('* - ' * (i//2) + '*' * (i%2)).strip())\n",
    "    i -=1"
   ]
  },
  {
   "cell_type": "code",
   "execution_count": 92,
   "id": "105b66bc",
   "metadata": {},
   "outputs": [
    {
     "name": "stdin",
     "output_type": "stream",
     "text": [
      "nhập số nguyên n 16\n"
     ]
    },
    {
     "name": "stdout",
     "output_type": "stream",
     "text": [
      "1\n",
      "2\n",
      "py\n",
      "4\n",
      "5\n",
      "py\n",
      "thon\n",
      "8\n",
      "py\n",
      "10\n",
      "11\n",
      "python\n",
      "13\n",
      "thon\n",
      "py\n",
      "16\n"
     ]
    }
   ],
   "source": [
    "'''\n",
    "Bài 4: Viết chương trình nhập vào một số nguyên n và in ra các số từ 1 đến n với các trường hợp ngoại lệ như sau:\n",
    "- Nếu số đó chia hết cho 3 thì in \"py\"\n",
    "- Nếu số đó chia hết cho 7 thì in \"thon\"\n",
    "- Nếu số đó chia hết cho cả 3 và 4 thì in \"python\"\n",
    "\n",
    "Ví dụ: n = 25\n",
    "1\n",
    "2\n",
    "py\n",
    "4\n",
    "5\n",
    "py\n",
    "thon\n",
    "8\n",
    "py\n",
    "10\n",
    "11\n",
    "py\n",
    "13\n",
    "thon\n",
    "py\n",
    "16\n",
    "17\n",
    "py\n",
    "19\n",
    "20\n",
    "python\n",
    "22\n",
    "23\n",
    "py\n",
    "25\n",
    "'''\n",
    "number = int(input(\"nhập số nguyên n\"))\n",
    "i = 1\n",
    "\n",
    "while i <= number:\n",
    "    if not i % 3:\n",
    "        if not i % 4:\n",
    "            print(\"python\")\n",
    "        else:\n",
    "            print(\"py\")\n",
    "    elif not i % 7:\n",
    "        print(\"thon\")\n",
    "    else:\n",
    "        print(i)\n",
    "    i +=1"
   ]
  },
  {
   "cell_type": "code",
   "execution_count": 53,
   "id": "78e2d228-6385-49d7-8ce3-f2e99f071a04",
   "metadata": {},
   "outputs": [
    {
     "name": "stdin",
     "output_type": "stream",
     "text": [
      "nhập số nguyên bất kì 3\n"
     ]
    },
    {
     "name": "stdout",
     "output_type": "stream",
     "text": [
      "Đây là số nguyên tố\n",
      "Đây là số nguyên tố\n"
     ]
    }
   ],
   "source": [
    "'''\n",
    "Bài 5: Viết chương trình nhập vào một số và kiểm tra xem số đó có phải là số nguyên tố hay không\n",
    "Note: Số nguyên tố là số chỉ chia hết cho 1 và chính nó\n",
    "'''\n",
    "number = int(input(\"nhập số nguyên bất kì\"))\n",
    "n=0\n",
    "k=0\n",
    "i=1\n",
    "if 1 <=number <= 3:\n",
    "    print(\"Đây là số nguyên tố\")\n",
    "else:\n",
    "    while i < (number-2):\n",
    "        if not number % (i+1):\n",
    "            k +=1\n",
    "        else:\n",
    "            n +=1\n",
    "        i +=1\n",
    "if n == number-3:\n",
    "    print(\"Đây là số nguyên tố\")\n",
    "if k >= 1:\n",
    "    print(\"Đây không phải là số nguyên tố\")"
   ]
  },
  {
   "cell_type": "code",
   "execution_count": 56,
   "id": "b2c199d7-4d4c-457b-b80d-0f55277821c5",
   "metadata": {},
   "outputs": [
    {
     "name": "stdin",
     "output_type": "stream",
     "text": [
      "Nhập số nguyên n:  12\n"
     ]
    },
    {
     "name": "stdout",
     "output_type": "stream",
     "text": [
      "12 Không phải là số nguyên tố\n"
     ]
    }
   ],
   "source": [
    "#Cách 2\n",
    "n = int(input(\"Nhập số nguyên n: \"))\n",
    "i = 2\n",
    "songuyen = True\n",
    "while i < n:\n",
    "    if n% i == 0:\n",
    "        print(f\"{n} Không phải là số nguyên tố\")\n",
    "        songuyen = False\n",
    "        break\n",
    "    i += 1\n",
    "if songuyen == True:\n",
    "    print(f\"{n} là số nguyên tố\")"
   ]
  },
  {
   "cell_type": "code",
   "execution_count": null,
   "id": "d76fa311",
   "metadata": {},
   "outputs": [],
   "source": [
    "'''\n",
    "Bài 6: Viết chương trình mô phỏng trò chơi kéo búa bao theo luật chơi như sau:\n",
    "Quy ước: 1 - búa, 2 - kéo, 3 - bao\n",
    "Khi trò chơi bắt đầu, yêu cầu người chơi nhập 1 số từ bàn phím đại diện cho kéo, búa, bao\n",
    "Chương trình tự random ra một lựa chọn từ 1 đến 3.\n",
    "Nếu người chơi thua thì tiếp tục chơi cho đến khi thắng thì kết thúc chương trình.\n",
    "Ví dụ:\n",
    "\n",
    "Mời lựa chọn(1 - búa, 2 - kéo, 3 - bao): 1\n",
    "Máy tính chọn: 3\n",
    "Người chơi thua.\n",
    "\n",
    "Mời lựa chọn(1 - búa, 2 - kéo, 3 - bao): 2\n",
    "Máy tính chọn: 1\n",
    "Người chơi thua.\n",
    "\n",
    "Mời lựa chọn(1 - búa, 2 - kéo, 3 - bao): 1\n",
    "Máy tính chọn: 2\n",
    "Người chơi thắng.\n",
    "'''"
   ]
  },
  {
   "cell_type": "code",
   "execution_count": 66,
   "id": "e1e4c934-3a83-4e5b-83c7-1272d33b466a",
   "metadata": {},
   "outputs": [
    {
     "name": "stdin",
     "output_type": "stream",
     "text": [
      "Mời lựa chọn(1 - búa, 2 - kéo, 3 - bao):  3\n"
     ]
    },
    {
     "name": "stdout",
     "output_type": "stream",
     "text": [
      "Người chơi thua\n"
     ]
    },
    {
     "name": "stdin",
     "output_type": "stream",
     "text": [
      "Mời lựa chọn(1 - búa, 2 - kéo, 3 - bao):  3\n"
     ]
    },
    {
     "name": "stdout",
     "output_type": "stream",
     "text": [
      "Người chơi thua\n"
     ]
    },
    {
     "name": "stdin",
     "output_type": "stream",
     "text": [
      "Mời lựa chọn(1 - búa, 2 - kéo, 3 - bao):  2\n"
     ]
    },
    {
     "name": "stdout",
     "output_type": "stream",
     "text": [
      "Người chơi thua\n"
     ]
    },
    {
     "name": "stdin",
     "output_type": "stream",
     "text": [
      "Mời lựa chọn(1 - búa, 2 - kéo, 3 - bao):  3\n"
     ]
    },
    {
     "name": "stdout",
     "output_type": "stream",
     "text": [
      "Người chơi thắng\n"
     ]
    }
   ],
   "source": [
    "import random\n",
    "p_win = False\n",
    "while p_win == False:\n",
    "    play1 = int(input(\"Mời lựa chọn(1 - búa, 2 - kéo, 3 - bao): \"))\n",
    "    computer = random.randint(1,3)\n",
    "    if (play1 == 1 and computer == 2) or (play1 == 2 and computer == 3) or \\\n",
    "        (play1 == 3 and computer ==1):\n",
    "        print(\"Người chơi thắng\")\n",
    "        p_win = True\n",
    "    else:\n",
    "        print(\"Người chơi thua\")\n",
    "    "
   ]
  }
 ],
 "metadata": {
  "kernelspec": {
   "display_name": "Python 3 (ipykernel)",
   "language": "python",
   "name": "python3"
  },
  "language_info": {
   "codemirror_mode": {
    "name": "ipython",
    "version": 3
   },
   "file_extension": ".py",
   "mimetype": "text/x-python",
   "name": "python",
   "nbconvert_exporter": "python",
   "pygments_lexer": "ipython3",
   "version": "3.11.1"
  }
 },
 "nbformat": 4,
 "nbformat_minor": 5
}
