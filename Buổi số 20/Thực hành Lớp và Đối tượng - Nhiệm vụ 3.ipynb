{
 "cells": [
  {
   "cell_type": "code",
   "execution_count": 9,
   "id": "a42fa0c7",
   "metadata": {},
   "outputs": [
    {
     "name": "stdout",
     "output_type": "stream",
     "text": [
      "Number 1: 10\n",
      "Number 2: 5\n",
      "10 + 5 = 15\n",
      "10 - 5 = 5\n",
      "10 * 5 = 50\n",
      "10 / 5 = 2.0\n"
     ]
    }
   ],
   "source": [
    "\"\"\"\n",
    "Tạo class có tên Equation gồm có các thuộc tính và phương thức sau:\n",
    "+ Thuộc tính: number1, number2\n",
    "+ Phương thức:\n",
    "- Phương thức tạo __init()__\n",
    "- print_info(): dùng để hiển thị number1, number2\n",
    "- add(): dùng để cộng number1, number2\n",
    "- subtract(): trừ number1, number2\n",
    "- multi(): dùng để nhân number1, number2\n",
    "- divide(): dùng để chia number1, number2.\n",
    "\n",
    "Sau khi tạo class, khởi tạo một object Equation và in ra kết quả tính toán từ các hàm thực hiện phép tính\n",
    "\"\"\"\n",
    "class Equation:\n",
    "    def __init__(self, number1, number2):\n",
    "        self.number1 = number1\n",
    "        self.number2 = number2\n",
    "\n",
    "    def print_info(self):\n",
    "        print(f\"Number 1: {self.number1}\")\n",
    "        print(f\"Number 2: {self.number2}\")\n",
    "\n",
    "    def add(self):\n",
    "        return self.number1 + self.number2\n",
    "\n",
    "    def subtract(self):\n",
    "        return self.number1 - self.number2\n",
    "\n",
    "    def multiply(self):\n",
    "        return self.number1 * self.number2\n",
    "\n",
    "    def devide(self):\n",
    "        return self.number1 / self.number2\n",
    "\n",
    "equation = Equation(10,5)\n",
    "equation.print_info()\n",
    "\n",
    "print(f\"{equation.number1} + {equation.number2} = {equation.add()}\")\n",
    "print(f\"{equation.number1} - {equation.number2} = {equation.subtract()}\")\n",
    "print(f\"{equation.number1} * {equation.number2} = {equation.multiply()}\")\n",
    "print(f\"{equation.number1} / {equation.number2} = {equation.devide()}\")"
   ]
  },
  {
   "cell_type": "code",
   "execution_count": null,
   "id": "b5b63d71-6bca-4752-8f5d-92dfd561fc82",
   "metadata": {},
   "outputs": [],
   "source": []
  }
 ],
 "metadata": {
  "kernelspec": {
   "display_name": "Python 3 (ipykernel)",
   "language": "python",
   "name": "python3"
  },
  "language_info": {
   "codemirror_mode": {
    "name": "ipython",
    "version": 3
   },
   "file_extension": ".py",
   "mimetype": "text/x-python",
   "name": "python",
   "nbconvert_exporter": "python",
   "pygments_lexer": "ipython3",
   "version": "3.11.1"
  }
 },
 "nbformat": 4,
 "nbformat_minor": 5
}
