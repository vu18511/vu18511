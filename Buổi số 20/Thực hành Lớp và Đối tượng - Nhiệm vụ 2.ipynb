{
 "cells": [
  {
   "cell_type": "code",
   "execution_count": null,
   "id": "1b7705b3",
   "metadata": {},
   "outputs": [],
   "source": [
    "\"\"\"\n",
    "Viết class NhanVien gồm các thuộc tính:\n",
    "+ Tên\n",
    "+ Tuổi\n",
    "+ Địa chỉ\n",
    "+ Tiền lương\n",
    "+ Tổng số giờ làm\n",
    "\n",
    "Và các phương thức:\n",
    "- Phương thức __init__()\n",
    "- print_info() : In ra tất cả các thông tin của nhân viên\n",
    "- tinh_thuong(): Tính toán và trả về số tiền thưởng của nhân viên theo công thức sau:\n",
    "Nếu tổng số giờ làm của nhân viên >=200 thì thưởng = lương * 20%\n",
    "Nếu tổng số giờ làm của nhân viên <200 và >=100 thì thưởng = lương * 10%\n",
    "Nếu tổng số giờ làm của nhân viên <100 thì thưởng = 0\n",
    "\"\"\""
   ]
  },
  {
   "cell_type": "code",
   "execution_count": 8,
   "id": "3cf0f41d",
   "metadata": {},
   "outputs": [
    {
     "name": "stdout",
     "output_type": "stream",
     "text": [
      "thông tin nhân viên\n",
      "Tên: Vu\n",
      "Tuổi: 23\n",
      "Địa chỉ: 87/12 ND\n",
      "Lương: 8000\n",
      "Tổng giờ làm: 140\n",
      "Tiền thưởng: 800.0\n"
     ]
    }
   ],
   "source": [
    "class NhanVien:\n",
    "    def __init__ (self, ten, tuoi, dia_chi, luong, tong_gio_lam):\n",
    "        self.ten = ten\n",
    "        self.tuoi = tuoi\n",
    "        self.dia_chi = dia_chi\n",
    "        self.luong = luong\n",
    "        self.tong_gio_lam = tong_gio_lam\n",
    "\n",
    "    def tinh_thuong(self):\n",
    "        if self.tong_gio_lam >= 200:\n",
    "            tien_thuong = 0.2*self.luong\n",
    "        elif self.tong_gio_lam >= 100:\n",
    "            tien_thuong = 0.1 * self.luong\n",
    "        else:\n",
    "            tien_thuong = 0\n",
    "        return tien_thuong\n",
    "    def print_info(self):\n",
    "        print('thông tin nhân viên')\n",
    "        print(f\"Tên: {self.ten}\")\n",
    "        print(f\"Tuổi: {self.tuoi}\")\n",
    "        print(f\"Địa chỉ: {self.dia_chi}\")\n",
    "        print(f\"Lương: {self.luong}\")\n",
    "        print(f\"Tổng giờ làm: {self.tong_gio_lam}\")\n",
    "        print(f\"Tiền thưởng: {self.tinh_thuong()}\") #In ra kết quả của self.tinh_thuong nên cần có ()\n",
    "\n",
    "nhan_vien_a = NhanVien('Vu',23,'87/12 ND',8000,140)\n",
    "nhan_vien_a.print_info()"
   ]
  }
 ],
 "metadata": {
  "kernelspec": {
   "display_name": "Python 3 (ipykernel)",
   "language": "python",
   "name": "python3"
  },
  "language_info": {
   "codemirror_mode": {
    "name": "ipython",
    "version": 3
   },
   "file_extension": ".py",
   "mimetype": "text/x-python",
   "name": "python",
   "nbconvert_exporter": "python",
   "pygments_lexer": "ipython3",
   "version": "3.11.1"
  }
 },
 "nbformat": 4,
 "nbformat_minor": 5
}
